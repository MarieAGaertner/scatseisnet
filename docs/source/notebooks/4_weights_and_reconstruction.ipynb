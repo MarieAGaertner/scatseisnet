{
 "cells": [
  {
   "attachments": {},
   "cell_type": "markdown",
   "id": "5fb0b379",
   "metadata": {},
   "source": [
    "# Tutorial 4: the unmixing matrix and reconstruction of scattering coefficients from a feature\n",
    "\n",
    "Authors: Léonard Seydoux and René Steinmann\n",
    "\n",
    "Date: March 7, 2023\n",
    "\n",
    "After retrieving the most relevant features with an ICA from the scattering coefficients, we can now check what these features are actually telling us. So far, they seem abstract and have no physical unit. However, we can understand better the features, if we look on how they are constructed and how they would reconstruct its input, the scattering coefficients. This strategy was mainly discussed in this [paper](https://doi.org/10.1029/2022GL098854), where we can track the superficial freezing and thawing process on a single indepedent component."
   ]
  },
  {
   "cell_type": "code",
   "execution_count": 1,
   "id": "07a95975",
   "metadata": {},
   "outputs": [],
   "source": [
    "import numpy as np\n",
    "import pickle\n",
    "import matplotlib.pylab as plt\n",
    "import matplotlib.dates as mdates\n",
    "from matplotlib.gridspec import GridSpec\n",
    "from scipy.signal import medfilt"
   ]
  },
  {
   "cell_type": "code",
   "execution_count": 2,
   "id": "f07c3d55",
   "metadata": {},
   "outputs": [],
   "source": [
    "def load_data():\n",
    "    \n",
    "    \"\"\"Function to load all the data, which is necessary to look at the weights and reconstruction\"\"\"\n",
    "\n",
    "    features = np.load('example/features.npy')\n",
    "    data = np.load('example/scatnet_output.npz')\n",
    "    times = data['times']\n",
    "\n",
    "    with open('example/ica_model.pickle', 'rb') as handle:\n",
    "        ica_model = pickle.load(handle)\n",
    "\n",
    "    with open('example/network.pickle', 'rb') as handle:\n",
    "        network = pickle.load(handle)\n",
    "        \n",
    "    return features, times, ica_model, network"
   ]
  },
  {
   "cell_type": "code",
   "execution_count": 3,
   "id": "9e0f691c",
   "metadata": {},
   "outputs": [],
   "source": [
    "def show_weights_feature(weight_type='unmixing', iFeature=0):\n",
    "    \n",
    "    features, times, ica_model, network = load_data()\n",
    "\n",
    "    # information from the scattering network, important for showing the weights later\n",
    "    size_layer_0 = network.banks[0].octaves*network.banks[0].resolution\n",
    "    size_layer_1 = network.banks[1].octaves*network.banks[1].resolution\n",
    "    f_layer_0 = network.banks[0].centers\n",
    "    f_layer_1 = network.banks[1].centers\n",
    "    \n",
    "    # weights of the mixing or unmixing matrix?\n",
    "    if weight_type == 'mixing':\n",
    "        weights = ica_model.mixing_.T\n",
    "    elif weight_type == 'unmixing':\n",
    "        weights = ica_model.components_\n",
    "            \n",
    "    weights_comp = weights[iFeature]\n",
    "\n",
    "    # the weights are applied to the vectorized scattering coefficients, \n",
    "    # here we reshape the weights for the 2nd-order scattering coefficients to assign f_layer_0 and f_layer_1 later\n",
    "    ic_2ndLayer_e = np.reshape(weights_comp[3*size_layer_0:3*size_layer_0+size_layer_0*size_layer_1], \n",
    "                               (size_layer_0,size_layer_1))\n",
    "    ic_2ndLayer_n = np.reshape(weights_comp[3*size_layer_0+size_layer_0*size_layer_1:3*size_layer_0+size_layer_0*size_layer_1*2], \n",
    "                               (size_layer_0,size_layer_1))\n",
    "    ic_2ndLayer_z = np.reshape(weights_comp[3*size_layer_0+size_layer_0*size_layer_1*2:], \n",
    "                               (size_layer_0,size_layer_1))\n",
    "\n",
    "    ic_2ndLayer = np.array([ic_2ndLayer_e,\n",
    "                           ic_2ndLayer_n,\n",
    "                           ic_2ndLayer_z])\n",
    "\n",
    "    fig = plt.figure(figsize=(10,10))\n",
    "    gs = GridSpec(3, 3, figure=fig)\n",
    "\n",
    "    ax1 = fig.add_subplot(gs[0, :])\n",
    "    ax2 = fig.add_subplot(gs[1, :])\n",
    "    ax3 = fig.add_subplot(gs[2, 0])\n",
    "    ax4 = fig.add_subplot(gs[2, 1],sharex=ax3,sharey=ax3)\n",
    "    ax5 = fig.add_subplot(gs[2, 2],sharex=ax3,sharey=ax3)\n",
    "\n",
    "    ax1.plot(times, medfilt(features[:,iFeature],kernel_size=21), color='k')\n",
    "    ax1.plot(times, features[:,iFeature], color='k',alpha=0.2)\n",
    "    ax1.set_xlim(times.min(),times.max())\n",
    "    ax1.xaxis.set_major_locator(mdates.DayLocator())\n",
    "    ax1.xaxis.set_minor_locator(mdates.HourLocator())\n",
    "    ax1.xaxis.set_major_formatter(mdates.DateFormatter(\"\\n%Y-%m-%d\"))\n",
    "    ax1.xaxis.set_minor_formatter(mdates.DateFormatter(\"%HH:%MM\"))\n",
    "    ax1.grid(which='both')\n",
    "    ax1.set_ylabel('amplitude\\nof feature %s' % (iFeature))\n",
    "\n",
    "    ax2.plot(f_layer_0,weights_comp[:size_layer_0],'-k', label='e-comp')\n",
    "    ax2.plot(f_layer_0,weights_comp[size_layer_0:2*size_layer_0],'--k', label='n-comp')\n",
    "    ax2.plot(f_layer_0,weights_comp[2*size_layer_0:3*size_layer_0],':k', label='z-comp')\n",
    "    ax2.set_xlabel('$f_1$ [Hz]')\n",
    "    ax2.set_ylabel('weights of\\n%s matrix' % weight_type)\n",
    "    ax2.grid()\n",
    "    ax2.grid(axis='x', which='minor', color='grey', linestyle='--')\n",
    "    ax2.set_xscale('log')\n",
    "    ax2.legend(ncol=3)\n",
    "\n",
    "    vmin = -np.max(np.abs(weights_comp))\n",
    "    vmax = np.max(np.abs(weights_comp))\n",
    "    ax3.set_title('e-comp')\n",
    "    ax3.pcolormesh(f_layer_0,f_layer_1,ic_2ndLayer_e.T, vmin =vmin,vmax =vmax,cmap='RdBu_r',rasterized=True,shading='auto')\n",
    "    ax3.set_yscale('log')\n",
    "    ax3.set_xscale('log')\n",
    "\n",
    "    ax4.set_title('n-comp')\n",
    "    ax4.pcolormesh(f_layer_0,f_layer_1,ic_2ndLayer_n.T, vmin =vmin,vmax =vmax,cmap='RdBu_r',rasterized=True,shading='auto')\n",
    "    ax4.set_yscale('log')\n",
    "    ax4.set_xscale('log')\n",
    "\n",
    "    ax5.set_title('z-comp')\n",
    "    im = ax5.pcolormesh(f_layer_0,f_layer_1,ic_2ndLayer_z.T, vmin =vmin,vmax =vmax,cmap='RdBu_r',rasterized=True,shading='auto')\n",
    "    ax5.set_yscale('log')\n",
    "    ax5.set_xscale('log')\n",
    "    ax3.set_xlabel('$f_1$ [Hz]')\n",
    "    ax4.set_xlabel('$f_1$ [Hz]')\n",
    "    ax5.set_xlabel('$f_1$ [Hz]')\n",
    "    ax3.set_ylabel('$f_2$ [Hz]')\n",
    "    ax3.set_xlim(np.min(f_layer_0),np.max(f_layer_0))\n",
    "    ax3.set_ylim(np.min(f_layer_1),np.max(f_layer_1))\n",
    "\n",
    "    for single_ax in [ax3,ax4,ax5]:\n",
    "        single_ax.plot(np.linspace(0.1,100,4),np.linspace(0.1,100,4),'--k',lw=2)\n",
    "\n",
    "    fig.subplots_adjust(right=0.97)\n",
    "    cbar_ax = fig.add_axes([0.99, 0.075, 0.01, 0.15])\n",
    "    fig.colorbar(im, cax=cbar_ax)\n",
    "    cbar_ax.set_ylabel('weights of\\n%s matrix' % weight_type)\n",
    "\n",
    "    fig.tight_layout()\n",
    "    #plt.show()\n",
    "    pass\n",
    "\n",
    "def show_reconstruction(iFeature=0):\n",
    "    \n",
    "    features, times, ica_model, network = load_data()\n",
    "            \n",
    "    size_layer_0 = network.banks[0].octaves*network.banks[0].resolution\n",
    "    size_layer_1 = network.banks[1].octaves*network.banks[1].resolution\n",
    "    f_layer_0 = network.banks[0].centers\n",
    "    f_layer_1 = network.banks[1].centers\n",
    "            \n",
    "    Y_filt = np.zeros(features.shape)\n",
    "    Y_filt[:,iFeature] = features[:,iFeature]\n",
    "    sc_filt = ica_model.inverse_transform(Y_filt)\n",
    "\n",
    "    fig, ax = plt.subplots(3,1,figsize=(15,10),sharex=True,sharey=True)\n",
    "\n",
    "    vmin_spec=sc_filt[:,:3*size_layer_0].min()\n",
    "    vmax_spec=sc_filt[:,:3*size_layer_0].max()\n",
    "\n",
    "    ax[0].pcolormesh(times,f_layer_0,sc_filt[:,:size_layer_0].T,vmin=vmin_spec,vmax=vmax_spec,rasterized=True)\n",
    "    ax[1].pcolormesh(times,f_layer_0,sc_filt[:,size_layer_0:2*size_layer_0].T,vmin=vmin_spec,vmax=vmax_spec,rasterized=True)\n",
    "    ax[2].pcolormesh(times,f_layer_0,sc_filt[:,2*size_layer_0:3*size_layer_0].T,vmin=vmin_spec,vmax=vmax_spec,rasterized=True)\n",
    "    ax[0].set_ylabel('$f_0 [Hz]$')\n",
    "    ax[1].set_ylabel('$f_0 [Hz]$')\n",
    "    ax[2].set_ylabel('$f_0 [Hz]$')\n",
    "    ax[2].xaxis.set_major_locator(mdates.YearLocator())\n",
    "    ax[2].xaxis.set_minor_locator(mdates.MonthLocator())\n",
    "    ax[2].xaxis.set_major_formatter(mdates.DateFormatter(\"\\n%Y\"))\n",
    "    ax[2].xaxis.set_minor_formatter(mdates.DateFormatter(\"%b\"))\n",
    "    ax[2].set_yscale('log')\n",
    "    plt.show()\n",
    "    \n",
    "    pass"
   ]
  },
  {
   "cell_type": "code",
   "execution_count": 4,
   "id": "3db746e4",
   "metadata": {},
   "outputs": [
    {
     "ename": "FileNotFoundError",
     "evalue": "[Errno 2] No such file or directory: 'example/features.npy'",
     "output_type": "error",
     "traceback": [
      "\u001b[0;31m---------------------------------------------------------------------------\u001b[0m",
      "\u001b[0;31mFileNotFoundError\u001b[0m                         Traceback (most recent call last)",
      "Cell \u001b[0;32mIn[4], line 1\u001b[0m\n\u001b[0;32m----> 1\u001b[0m show_weights_feature()\n",
      "Cell \u001b[0;32mIn[3], line 3\u001b[0m, in \u001b[0;36mshow_weights_feature\u001b[0;34m(weight_type, iFeature)\u001b[0m\n\u001b[1;32m      1\u001b[0m \u001b[39mdef\u001b[39;00m \u001b[39mshow_weights_feature\u001b[39m(weight_type\u001b[39m=\u001b[39m\u001b[39m'\u001b[39m\u001b[39munmixing\u001b[39m\u001b[39m'\u001b[39m, iFeature\u001b[39m=\u001b[39m\u001b[39m0\u001b[39m):\n\u001b[0;32m----> 3\u001b[0m     features, times, ica_model, network \u001b[39m=\u001b[39m load_data()\n\u001b[1;32m      5\u001b[0m     \u001b[39m# information from the scattering network, important for showing the weights later\u001b[39;00m\n\u001b[1;32m      6\u001b[0m     size_layer_0 \u001b[39m=\u001b[39m network\u001b[39m.\u001b[39mbanks[\u001b[39m0\u001b[39m]\u001b[39m.\u001b[39moctaves\u001b[39m*\u001b[39mnetwork\u001b[39m.\u001b[39mbanks[\u001b[39m0\u001b[39m]\u001b[39m.\u001b[39mresolution\n",
      "Cell \u001b[0;32mIn[2], line 5\u001b[0m, in \u001b[0;36mload_data\u001b[0;34m()\u001b[0m\n\u001b[1;32m      1\u001b[0m \u001b[39mdef\u001b[39;00m \u001b[39mload_data\u001b[39m():\n\u001b[1;32m      3\u001b[0m \u001b[39m    \u001b[39m\u001b[39m\"\"\"Function to load all the data, which is necessary to look at the weights and reconstruction\"\"\"\u001b[39;00m\n\u001b[0;32m----> 5\u001b[0m     features \u001b[39m=\u001b[39m np\u001b[39m.\u001b[39;49mload(\u001b[39m'\u001b[39;49m\u001b[39mexample/features.npy\u001b[39;49m\u001b[39m'\u001b[39;49m)\n\u001b[1;32m      6\u001b[0m     data \u001b[39m=\u001b[39m np\u001b[39m.\u001b[39mload(\u001b[39m'\u001b[39m\u001b[39mexample/scatnet_output.npz\u001b[39m\u001b[39m'\u001b[39m)\n\u001b[1;32m      7\u001b[0m     times \u001b[39m=\u001b[39m data[\u001b[39m'\u001b[39m\u001b[39mtimes\u001b[39m\u001b[39m'\u001b[39m]\n",
      "File \u001b[0;32m~/anaconda3/envs/ssn_beta/lib/python3.11/site-packages/numpy/lib/npyio.py:405\u001b[0m, in \u001b[0;36mload\u001b[0;34m(file, mmap_mode, allow_pickle, fix_imports, encoding, max_header_size)\u001b[0m\n\u001b[1;32m    403\u001b[0m     own_fid \u001b[39m=\u001b[39m \u001b[39mFalse\u001b[39;00m\n\u001b[1;32m    404\u001b[0m \u001b[39melse\u001b[39;00m:\n\u001b[0;32m--> 405\u001b[0m     fid \u001b[39m=\u001b[39m stack\u001b[39m.\u001b[39menter_context(\u001b[39mopen\u001b[39;49m(os_fspath(file), \u001b[39m\"\u001b[39;49m\u001b[39mrb\u001b[39;49m\u001b[39m\"\u001b[39;49m))\n\u001b[1;32m    406\u001b[0m     own_fid \u001b[39m=\u001b[39m \u001b[39mTrue\u001b[39;00m\n\u001b[1;32m    408\u001b[0m \u001b[39m# Code to distinguish from NumPy binary files and pickles.\u001b[39;00m\n",
      "\u001b[0;31mFileNotFoundError\u001b[0m: [Errno 2] No such file or directory: 'example/features.npy'"
     ]
    }
   ],
   "source": [
    "show_weights_feature()"
   ]
  },
  {
   "cell_type": "code",
   "execution_count": 47,
   "id": "ffef779b",
   "metadata": {},
   "outputs": [
    {
     "data": {
      "image/png": "[encoded data removed]",
      "text/plain": [
       "<Figure size 1080x720 with 3 Axes>"
      ]
     },
     "metadata": {
      "needs_background": "light"
     },
     "output_type": "display_data"
    }
   ],
   "source": [
    "show_reconstruction()"
   ]
  },
  {
   "cell_type": "code",
   "execution_count": null,
   "id": "3de1cf87",
   "metadata": {},
   "outputs": [],
   "source": []
  }
 ],
 "metadata": {
  "kernelspec": {
   "display_name": "calcite",
   "language": "python",
   "name": "python3"
  },
  "language_info": {
   "codemirror_mode": {
    "name": "ipython",
    "version": 3
   },
   "file_extension": ".py",
   "mimetype": "text/x-python",
   "name": "python",
   "nbconvert_exporter": "python",
   "pygments_lexer": "ipython3",
   "version": "3.11.0"
  },
  "vscode": {
   "interpreter": {
    "hash": "5d149311e5c9f98e1221145750d886da460c4fddffca98ab3723347113545849"
   }
  }
 },
 "nbformat": 4,
 "nbformat_minor": 5
}
